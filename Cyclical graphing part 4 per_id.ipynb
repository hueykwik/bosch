{
 "cells": [
  {
   "cell_type": "code",
   "execution_count": 2,
   "metadata": {
    "collapsed": true
   },
   "outputs": [],
   "source": [
    "import numpy as np\n",
    "import pandas as pd\n",
    "import os\n",
    "import ast"
   ]
  },
  {
   "cell_type": "code",
   "execution_count": 3,
   "metadata": {
    "collapsed": false
   },
   "outputs": [
    {
     "name": "stdout",
     "output_type": "stream",
     "text": [
      "/Users/nathan/Documents/Stats/Bosch Kaggle/bosch\n"
     ]
    }
   ],
   "source": [
    "cwd = os.getcwd()\n",
    "print(cwd)\n",
    "datapath = cwd + '/../'"
   ]
  },
  {
   "cell_type": "code",
   "execution_count": 4,
   "metadata": {
    "collapsed": true
   },
   "outputs": [],
   "source": [
    "id_df = pd.read_csv(datapath + 'response_code.csv', index_col = 0)"
   ]
  },
  {
   "cell_type": "code",
   "execution_count": 9,
   "metadata": {
    "collapsed": false
   },
   "outputs": [
    {
     "name": "stdout",
     "output_type": "stream",
     "text": [
      "    L0_S1_F25  L0_S1_F27  L0_S1_F29  L0_S1_F31  L0_S2_F33  L0_S2_F35  \\\n",
      "Id                                                                     \n",
      "4         NaN        NaN        NaN        NaN        NaN        NaN   \n",
      "6         NaN        NaN        NaN        NaN        NaN        NaN   \n",
      "7         NaN        NaN        NaN        NaN        NaN        NaN   \n",
      "9         NaN        NaN        NaN        NaN        NaN        NaN   \n",
      "11        NaN        NaN        NaN        NaN        NaN        NaN   \n",
      "13        NaN        NaN        NaN        NaN        NaN        NaN   \n",
      "14        NaN        NaN        NaN        NaN        NaN        NaN   \n",
      "16        NaN        NaN        NaN        NaN        NaN        NaN   \n",
      "18        NaN        NaN        NaN        NaN        NaN        NaN   \n",
      "23        NaN        NaN        NaN        NaN        NaN        NaN   \n",
      "26        NaN        NaN        NaN        NaN        NaN        NaN   \n",
      "27        NaN        NaN        NaN        NaN        NaN        NaN   \n",
      "28        NaN        NaN        NaN        NaN        NaN        NaN   \n",
      "31        NaN        NaN        NaN        NaN        NaN        NaN   \n",
      "34        NaN        NaN        NaN        NaN        NaN        NaN   \n",
      "38        NaN        NaN        NaN        NaN        NaN        NaN   \n",
      "41        NaN        NaN        NaN        NaN        NaN        NaN   \n",
      "44        NaN        NaN        NaN        NaN        NaN        NaN   \n",
      "47        NaN        NaN        NaN        NaN        NaN        NaN   \n",
      "49        NaN        NaN        NaN        NaN        NaN        NaN   \n",
      "\n",
      "    L0_S2_F37  L0_S2_F39  L0_S2_F41  L0_S2_F43      ...       L3_S49_F4225  \\\n",
      "Id                                                  ...                      \n",
      "4         NaN        NaN        NaN        NaN      ...                NaN   \n",
      "6         NaN        NaN        NaN        NaN      ...                NaN   \n",
      "7         NaN        NaN        NaN        NaN      ...                NaN   \n",
      "9         NaN        NaN        NaN        NaN      ...                NaN   \n",
      "11        NaN        NaN        NaN        NaN      ...                NaN   \n",
      "13        NaN        NaN        NaN        NaN      ...                NaN   \n",
      "14        NaN        NaN        NaN        NaN      ...                NaN   \n",
      "16        NaN        NaN        NaN        NaN      ...                NaN   \n",
      "18        NaN        NaN        NaN        NaN      ...                NaN   \n",
      "23        NaN        NaN        NaN        NaN      ...                NaN   \n",
      "26        NaN        NaN        NaN        NaN      ...                NaN   \n",
      "27        NaN        NaN        NaN        NaN      ...                NaN   \n",
      "28        NaN        NaN        NaN        NaN      ...                NaN   \n",
      "31        NaN        NaN        NaN        NaN      ...                NaN   \n",
      "34        NaN        NaN        NaN        NaN      ...                NaN   \n",
      "38        NaN        NaN        NaN        NaN      ...                NaN   \n",
      "41        NaN        NaN        NaN        NaN      ...                NaN   \n",
      "44        NaN        NaN        NaN        NaN      ...                NaN   \n",
      "47        NaN        NaN        NaN        NaN      ...                NaN   \n",
      "49        NaN        NaN        NaN        NaN      ...                NaN   \n",
      "\n",
      "    L3_S49_F4227  L3_S49_F4229  L3_S49_F4230  L3_S49_F4232  L3_S49_F4234  \\\n",
      "Id                                                                         \n",
      "4            NaN           NaN           NaN           NaN           NaN   \n",
      "6            NaN           NaN           NaN           NaN           NaN   \n",
      "7            NaN           NaN           NaN           NaN           NaN   \n",
      "9            NaN           NaN           NaN           NaN           NaN   \n",
      "11           NaN           NaN           NaN           NaN           NaN   \n",
      "13           NaN           NaN           NaN           NaN           NaN   \n",
      "14           NaN           NaN           NaN           NaN           NaN   \n",
      "16           NaN           NaN           NaN           NaN           NaN   \n",
      "18           NaN           NaN           NaN           NaN           NaN   \n",
      "23           NaN           NaN           NaN           NaN           NaN   \n",
      "26           NaN           NaN           NaN           NaN           NaN   \n",
      "27           NaN           NaN           NaN           NaN           NaN   \n",
      "28           NaN           NaN           NaN           NaN           NaN   \n",
      "31           NaN           NaN           NaN           NaN           NaN   \n",
      "34           NaN           NaN           NaN           NaN           NaN   \n",
      "38           NaN           NaN           NaN           NaN           NaN   \n",
      "41           NaN           NaN           NaN           NaN           NaN   \n",
      "44           NaN           NaN           NaN           NaN           NaN   \n",
      "47           NaN           NaN           NaN           NaN           NaN   \n",
      "49           NaN           NaN           NaN           NaN           NaN   \n",
      "\n",
      "    L3_S49_F4235  L3_S49_F4237  L3_S49_F4239  L3_S49_F4240  \n",
      "Id                                                          \n",
      "4            NaN           NaN           NaN           NaN  \n",
      "6            NaN           NaN           NaN           NaN  \n",
      "7            NaN           NaN           NaN           NaN  \n",
      "9            NaN           NaN           NaN           NaN  \n",
      "11           NaN           NaN           NaN           NaN  \n",
      "13           NaN           NaN           NaN           NaN  \n",
      "14           NaN           NaN           NaN           NaN  \n",
      "16           NaN           NaN           NaN           NaN  \n",
      "18           NaN           NaN           NaN           NaN  \n",
      "23           NaN           NaN           NaN           NaN  \n",
      "26           NaN           NaN           NaN           NaN  \n",
      "27           NaN           NaN           NaN           NaN  \n",
      "28           NaN           NaN           NaN           NaN  \n",
      "31           NaN           NaN           NaN           NaN  \n",
      "34           NaN           NaN           NaN           NaN  \n",
      "38           NaN           NaN           NaN           NaN  \n",
      "41           NaN           NaN           NaN           NaN  \n",
      "44           NaN           NaN           NaN           NaN  \n",
      "47           NaN           NaN           NaN           NaN  \n",
      "49           NaN           NaN           NaN           NaN  \n",
      "\n",
      "[20 rows x 2140 columns]\n"
     ]
    }
   ],
   "source": [
    "date_iter_csv = pd.read_csv(datapath + 'date_ids_df.csv',\n",
    "                            iterator = True,\n",
    "                            chunksize = 5000,\n",
    "                            index_col = 0)\n",
    "id_fail_rates = {}\n",
    "chunk_num = 0\n",
    "for chunk in test_date_iter_csv:\n",
    "\n",
    "    for j in chunk.itertuples():\n",
    "        # this is a single row, which is a single date\n",
    "        # I will add this ID to every date's list of ids for which\n",
    "        # this ID has an entry\n",
    "        for c in range(0, len(j)-1):\n",
    "            if pd.isnull(j[c+1]) == False:\n",
    "                # j[0] is the date\n",
    "                # hmm. check my iloc usage\n",
    "                temp = id_fail_rates.get(id_df.iloc[0:,:c], [])\n",
    "                temp.append(j[0])\n",
    "                id_fail_rates[all_ids[c]] = temp\n",
    "    print(chunk_num)\n",
    "    chunk_num += 1"
   ]
  },
  {
   "cell_type": "code",
   "execution_count": null,
   "metadata": {
    "collapsed": true
   },
   "outputs": [],
   "source": []
  }
 ],
 "metadata": {
  "kernelspec": {
   "display_name": "Python 3",
   "language": "python",
   "name": "python3"
  },
  "language_info": {
   "codemirror_mode": {
    "name": "ipython",
    "version": 3
   },
   "file_extension": ".py",
   "mimetype": "text/x-python",
   "name": "python",
   "nbconvert_exporter": "python",
   "pygments_lexer": "ipython3",
   "version": "3.5.2"
  }
 },
 "nbformat": 4,
 "nbformat_minor": 1
}
