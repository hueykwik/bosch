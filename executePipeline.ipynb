{
 "cells": [
  {
   "cell_type": "code",
   "execution_count": 8,
   "metadata": {
    "ExecuteTime": {
     "end_time": "2016-10-24T15:44:20.340915",
     "start_time": "2016-10-24T15:44:20.336904"
    },
    "collapsed": true
   },
   "outputs": [],
   "source": [
    "import pandas as pd\n",
    "from sklearn.base import TransformerMixin\n",
    "from numpy import ravel\n",
    "from xgboost import XGBClassifier\n",
    "import matplotlib.pyplot as plt\n",
    "from sklearn.pipeline import Pipeline, FeatureUnion\n",
    "\n",
    "data_path = 'data/'"
   ]
  },
  {
   "cell_type": "code",
   "execution_count": 9,
   "metadata": {
    "ExecuteTime": {
     "end_time": "2016-10-24T15:44:21.794135",
     "start_time": "2016-10-24T15:44:21.785110"
    },
    "collapsed": true
   },
   "outputs": [],
   "source": [
    "# contains all methods and classes for FeatureUnion\n",
    "## generic read_csv\n",
    "\n",
    "#example\n",
    "class Regular(TransformerMixin):\n",
    "    #return itself\n",
    "    def fit(self, x, y=None):\n",
    "        return self\n",
    "    \n",
    "    def transform(self, X):\n",
    "        print(X.shape)\n",
    "        return X\n",
    "\n",
    "#example\n",
    "class LoadCSV(TransformerMixin):\n",
    "    #return itself\n",
    "    def __init__(self, filename):\n",
    "        self.filename = filename\n",
    "    \n",
    "    def fit(self, x, y=None):\n",
    "        return self\n",
    "    \n",
    "    def transform(self, X):\n",
    "        # we assume the first CSV entry is always the ID\n",
    "        return pd.read_csv(self.filename, index_col = 0)\n",
    "\n",
    "# reg = Regular()\n",
    "# feature = LoadCSV('file.csv')"
   ]
  },
  {
   "cell_type": "code",
   "execution_count": 12,
   "metadata": {
    "ExecuteTime": {
     "end_time": "2016-10-24T15:45:09.821498",
     "start_time": "2016-10-24T15:45:09.356669"
    },
    "collapsed": false
   },
   "outputs": [
    {
     "data": {
      "text/plain": [
       "array([[  5.],\n",
       "       [ 10.],\n",
       "       [  5.],\n",
       "       ..., \n",
       "       [  5.],\n",
       "       [ 26.],\n",
       "       [ 29.]])"
      ]
     },
     "execution_count": 12,
     "metadata": {},
     "output_type": "execute_result"
    }
   ],
   "source": [
    "# individual import statements for every feature, comment these out if needed\n",
    "#LoadCSV('data/train_fail_date_score.csv').fit_transform()\n",
    "union = FeatureUnion([('first', LoadCSV('data/train_fail_date_score.csv'))])\n",
    "union.fit_transform(1)\n"
   ]
  },
  {
   "cell_type": "code",
   "execution_count": null,
   "metadata": {
    "collapsed": true
   },
   "outputs": [],
   "source": [
    "# one featureunion for everything if possible\n",
    "## always new code cell for testing pipelines"
   ]
  }
 ],
 "metadata": {
  "anaconda-cloud": {},
  "kernelspec": {
   "display_name": "Python [conda root]",
   "language": "python",
   "name": "conda-root-py"
  },
  "language_info": {
   "codemirror_mode": {
    "name": "ipython",
    "version": 3
   },
   "file_extension": ".py",
   "mimetype": "text/x-python",
   "name": "python",
   "nbconvert_exporter": "python",
   "pygments_lexer": "ipython3",
   "version": "3.5.2"
  }
 },
 "nbformat": 4,
 "nbformat_minor": 1
}
