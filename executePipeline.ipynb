{
 "cells": [
  {
   "cell_type": "code",
   "execution_count": 63,
   "metadata": {
    "ExecuteTime": {
     "end_time": "2016-10-26T23:14:35.872541",
     "start_time": "2016-10-26T23:14:35.865521"
    },
    "collapsed": false
   },
   "outputs": [],
   "source": [
    "import pandas as pd\n",
    "from sklearn.base import TransformerMixin\n",
    "from sklearn.metrics import matthews_corrcoef, roc_auc_score\n",
    "from sklearn.cross_validation import cross_val_score, StratifiedKFold\n",
    "from sklearn.pipeline import Pipeline, FeatureUnion, make_union\n",
    "from numpy import ravel\n",
    "import numpy as np\n",
    "from xgboost import XGBClassifier\n",
    "import matplotlib.pyplot as plt"
   ]
  },
  {
   "cell_type": "code",
   "execution_count": 64,
   "metadata": {
    "ExecuteTime": {
     "end_time": "2016-10-26T23:14:35.903622",
     "start_time": "2016-10-26T23:14:35.874548"
    },
    "collapsed": false
   },
   "outputs": [],
   "source": [
    "# contains all methods and classes for FeatureUnion\n",
    "## generic read_csv\n",
    "\n",
    "#example\n",
    "class Regular(TransformerMixin):\n",
    "    #return itself\n",
    "    def fit(self, x, y=None):\n",
    "        return self\n",
    "    \n",
    "    def transform(self, X):\n",
    "        print(X.shape)\n",
    "        return X\n",
    "\n",
    "#example\n",
    "class LoadCSV(TransformerMixin):\n",
    "    def __init__(self, filename, **kwargs):\n",
    "        # TODO build in args so that we can pass things to read_csv\n",
    "        self.filename = filename\n",
    "        self.kwargs = kwargs\n",
    "    \n",
    "    def fit(self, x, y=None):\n",
    "        return self\n",
    "    \n",
    "    def transform(self, X):\n",
    "        # we assume the first CSV entry is always the ID\n",
    "        temp = pd.read_csv(self.filename, index_col = 0, **self.kwargs)\n",
    "        return temp\n"
   ]
  },
  {
   "cell_type": "code",
   "execution_count": 65,
   "metadata": {
    "ExecuteTime": {
     "end_time": "2016-10-26T23:14:51.932297",
     "start_time": "2016-10-26T23:14:35.905628"
    },
    "collapsed": false
   },
   "outputs": [],
   "source": [
    "# load in targets\n",
    "base = pd.read_csv(\"data/train_numeric.csv\", usecols = ['Id','Response'])\n",
    "target = base.loc[:,['Response']]"
   ]
  },
  {
   "cell_type": "code",
   "execution_count": 66,
   "metadata": {
    "ExecuteTime": {
     "end_time": "2016-10-26T23:14:51.939280",
     "start_time": "2016-10-26T23:14:51.933263"
    },
    "collapsed": false
   },
   "outputs": [
    {
     "name": "stdout",
     "output_type": "stream",
     "text": [
      "wakkaalphawakka\n"
     ]
    }
   ],
   "source": [
    "asd = 'wakka{}wakka'\n",
    "print(asd.format('alpha'))"
   ]
  },
  {
   "cell_type": "code",
   "execution_count": 81,
   "metadata": {
    "ExecuteTime": {
     "end_time": "2016-10-26T23:51:17.509695",
     "start_time": "2016-10-26T23:51:15.731929"
    },
    "collapsed": true
   },
   "outputs": [],
   "source": [
    "# make featureunions\n",
    "#numeric_usecols = ['Id',\n",
    "#                     'L1_S24_F1846', 'L3_S32_F3850',\n",
    "#                     'L1_S24_F1695', 'L1_S24_F1632',\n",
    "#                     'L3_S33_F3855', 'L1_S24_F1604',\n",
    "#                     'L3_S29_F3407', 'L3_S33_F3865',\n",
    "#                     'L3_S38_F3952', 'L1_S24_F1723']\n",
    "#unionargs = ['data/{}_fail_date_score.csv'.format('train')]#\n",
    "#\n",
    "#def deliverunion(train = True):\n",
    "#    # fileanme, than args\n",
    "#    arglist = []\n",
    "#    arglist.append(['data/train_fail_date_score.csv'])\n",
    "#    if train:#\n",
    "#\n",
    "features = make_union(LoadCSV('data/train_fail_date_score.csv'), \n",
    "                      LoadCSV('data/train_min_date.csv'),\n",
    "                      LoadCSV('data/train_s32_s33_s34.csv'))\n",
    "# mindate's best columns, Huey's (is S32, S33, S34), \n",
    "# nathan's cyclic thing, fail_date_score, useful date columns\n",
    "X = features.fit_transform(1)\n",
    "y = base['Response']"
   ]
  },
  {
   "cell_type": "code",
   "execution_count": 89,
   "metadata": {
    "ExecuteTime": {
     "end_time": "2016-10-27T00:20:31.594973",
     "start_time": "2016-10-27T00:20:29.817246"
    },
    "collapsed": false
   },
   "outputs": [],
   "source": [
    "test = make_union(LoadCSV('data/test_fail_date_score.csv'), \n",
    "                  LoadCSV('data/test_min_date.csv'),\n",
    "                  LoadCSV('data/test_s32_s33_s34.csv'))\n",
    "X_test = test.fit_transform(1)\n",
    "df_test = pd.DataFrame(X_test)"
   ]
  },
  {
   "cell_type": "code",
   "execution_count": 82,
   "metadata": {
    "ExecuteTime": {
     "end_time": "2016-10-26T23:51:58.260607",
     "start_time": "2016-10-26T23:51:18.060676"
    },
    "collapsed": false
   },
   "outputs": [],
   "source": [
    "if X.shape[1] != test.shape[1]:\n",
    "    print('loaded in CSVs wrong')\n",
    "\n",
    "#clf = XGBClassifier(base_score=0.005, seed=24)\n",
    "#clf.fit(X,y)\n",
    "##original_preds = np.ones(y.shape[0])\n",
    "#original_raw_preds = clf.predict_proba(X)\n",
    "#original_preds = (clf.predict_proba(X)[:,1] > 0.05).astype(np.int8)\n",
    "#newpreds = (clf.predict_proba(test)[:,1] > 0.05).astype(np.int8)"
   ]
  },
  {
   "cell_type": "code",
   "execution_count": 84,
   "metadata": {
    "ExecuteTime": {
     "end_time": "2016-10-27T00:14:46.474329",
     "start_time": "2016-10-26T23:56:12.337486"
    },
    "collapsed": false
   },
   "outputs": [
    {
     "name": "stdout",
     "output_type": "stream",
     "text": [
      "0.900484351856\n"
     ]
    }
   ],
   "source": [
    "clf = XGBClassifier(max_depth=10, base_score=0.005, seed=37)\n",
    "cv = StratifiedKFold(y, n_folds=10, random_state=37)\n",
    "preds = np.ones(y.shape[0])\n",
    "dfX = pd.DataFrame(X)\n",
    "\n",
    "for i, (infold, outfold) in enumerate(cv):\n",
    "    preds[outfold] = clf.fit(dfX.loc[infold], y[infold]).predict_proba(dfX.loc[outfold])[:,1]\n",
    "    print(\"fold {}, ROC AUC: {:.3f}\".format(i, roc_auc_score(y[outfold], preds[outfold])))\n",
    "print(roc_auc_score(y, preds))\n"
   ]
  },
  {
   "cell_type": "code",
   "execution_count": 92,
   "metadata": {
    "ExecuteTime": {
     "end_time": "2016-10-27T00:21:51.678616",
     "start_time": "2016-10-27T00:21:40.204095"
    },
    "collapsed": false
   },
   "outputs": [
    {
     "name": "stdout",
     "output_type": "stream",
     "text": [
      "0.336197740772\n"
     ]
    }
   ],
   "source": [
    "# Pick the best threshold out-of-fold\n",
    "thresholds = np.linspace(0.01, 0.99, 50)\n",
    "mcc = np.array([matthews_corrcoef(y, preds>thr) for thr in thresholds])\n",
    "plt.plot(thresholds, mcc)\n",
    "best_threshold = thresholds[mcc.argmax()]\n",
    "print(mcc.max())\n",
    "preds = (clf.predict_proba(df_test)[:,1] > best_threshold).astype(np.int8)"
   ]
  },
  {
   "cell_type": "code",
   "execution_count": 93,
   "metadata": {
    "ExecuteTime": {
     "end_time": "2016-10-27T00:22:04.851313",
     "start_time": "2016-10-27T00:21:58.747073"
    },
    "collapsed": false
   },
   "outputs": [],
   "source": [
    "# Submit\n",
    "sub = pd.read_csv(\"data/sample_submission.csv\", index_col=0)\n",
    "sub[\"Response\"] = newpreds\n",
    "sub.to_csv(\"pipesubmission.csv.gz\", compression=\"gzip\")"
   ]
  },
  {
   "cell_type": "code",
   "execution_count": 71,
   "metadata": {
    "ExecuteTime": {
     "end_time": "2016-10-26T23:15:37.598644",
     "start_time": "2016-10-26T23:15:37.592629"
    },
    "collapsed": false
   },
   "outputs": [],
   "source": [
    "# individual import statements for every feature, comment these out if needed\n",
    "#LoadCSV('data/train_fail_date_score.csv').fit_transform()\n",
    "#union = FeatureUnion([('first', LoadCSV('data/train_fail_date_score.csv'))])\n",
    "#                      #('second', LoadCSV('data/train_numeric.csv'))])\n",
    "\n",
    "\n",
    "\n",
    "#pipe = Pipeline([('union', features),\n",
    "#                 ('linear', XGBClassifier(base_score=0.005, seed=24))])\n",
    "#pipe.fit(np.linspace(1,2,num=nrows),base['Response'])\n",
    "#y = pipe.predict(target)\n"
   ]
  },
  {
   "cell_type": "code",
   "execution_count": 72,
   "metadata": {
    "ExecuteTime": {
     "end_time": "2016-10-26T23:15:37.635741",
     "start_time": "2016-10-26T23:15:37.604660"
    },
    "collapsed": false
   },
   "outputs": [],
   "source": [
    "#features.transform(1)"
   ]
  },
  {
   "cell_type": "code",
   "execution_count": 73,
   "metadata": {
    "ExecuteTime": {
     "end_time": "2016-10-26T23:15:37.661811",
     "start_time": "2016-10-26T23:15:37.637750"
    },
    "collapsed": true
   },
   "outputs": [],
   "source": [
    "# one featureunion for everything if possible\n",
    "## always new code cell for testing pipelines"
   ]
  }
 ],
 "metadata": {
  "anaconda-cloud": {},
  "kernelspec": {
   "display_name": "Python [conda root]",
   "language": "python",
   "name": "conda-root-py"
  },
  "language_info": {
   "codemirror_mode": {
    "name": "ipython",
    "version": 3
   },
   "file_extension": ".py",
   "mimetype": "text/x-python",
   "name": "python",
   "nbconvert_exporter": "python",
   "pygments_lexer": "ipython3",
   "version": "3.5.2"
  }
 },
 "nbformat": 4,
 "nbformat_minor": 1
}
