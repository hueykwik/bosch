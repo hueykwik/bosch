{
 "cells": [
  {
   "cell_type": "code",
   "execution_count": 50,
   "metadata": {
    "ExecuteTime": {
     "end_time": "2016-10-26T17:43:22.412820",
     "start_time": "2016-10-26T17:43:22.406303"
    },
    "collapsed": false
   },
   "outputs": [],
   "source": [
    "import pandas as pd\n",
    "from sklearn.base import TransformerMixin\n",
    "from sklearn.metrics import matthews_corrcoef, roc_auc_score\n",
    "from sklearn.cross_validation import cross_val_score, StratifiedKFold\n",
    "from sklearn.pipeline import Pipeline, FeatureUnion, make_union\n",
    "from numpy import ravel\n",
    "import numpy as np\n",
    "from xgboost import XGBClassifier\n",
    "import matplotlib.pyplot as plt"
   ]
  },
  {
   "cell_type": "code",
   "execution_count": 51,
   "metadata": {
    "ExecuteTime": {
     "end_time": "2016-10-26T17:43:22.437884",
     "start_time": "2016-10-26T17:43:22.414322"
    },
    "collapsed": false
   },
   "outputs": [],
   "source": [
    "# contains all methods and classes for FeatureUnion\n",
    "## generic read_csv\n",
    "\n",
    "#example\n",
    "class Regular(TransformerMixin):\n",
    "    #return itself\n",
    "    def fit(self, x, y=None):\n",
    "        return self\n",
    "    \n",
    "    def transform(self, X):\n",
    "        print(X.shape)\n",
    "        return X\n",
    "\n",
    "#example\n",
    "class LoadCSV(TransformerMixin):\n",
    "    def __init__(self, filename, **kwargs):\n",
    "        # TODO build in args so that we can pass things to read_csv\n",
    "        self.filename = filename\n",
    "        self.kwargs = kwargs\n",
    "    \n",
    "    def fit(self, x, y=None):\n",
    "        return self\n",
    "    \n",
    "    def transform(self, X):\n",
    "        # we assume the first CSV entry is always the ID\n",
    "        temp = pd.read_csv(self.filename, index_col = 0, **self.kwargs)\n",
    "        return temp\n"
   ]
  },
  {
   "cell_type": "code",
   "execution_count": 52,
   "metadata": {
    "ExecuteTime": {
     "end_time": "2016-10-26T17:43:39.289892",
     "start_time": "2016-10-26T17:43:22.439391"
    },
    "collapsed": false
   },
   "outputs": [],
   "source": [
    "# load in targets\n",
    "base = pd.read_csv(\"data/train_numeric.csv\", usecols = ['Id','Response'])\n",
    "target = base.loc[:,['Response']]"
   ]
  },
  {
   "cell_type": "code",
   "execution_count": 53,
   "metadata": {
    "ExecuteTime": {
     "end_time": "2016-10-26T17:43:58.647583",
     "start_time": "2016-10-26T17:43:39.291436"
    },
    "collapsed": true
   },
   "outputs": [],
   "source": [
    "# make featureunions\n",
    "numeric_usecols = ['Id',\n",
    "                     'L1_S24_F1846', 'L3_S32_F3850',\n",
    "                     'L1_S24_F1695', 'L1_S24_F1632',\n",
    "                     'L3_S33_F3855', 'L1_S24_F1604',\n",
    "                     'L3_S29_F3407', 'L3_S33_F3865',\n",
    "                     'L3_S38_F3952', 'L1_S24_F1723']\n",
    "features = make_union(LoadCSV('data/train_fail_date_score.csv'), \n",
    "                      LoadCSV('data/train_min_date.csv'),\n",
    "                      LoadCSV('data/train_numeric.csv', usecols = numeric_usecols))\n",
    "# mindate's best columns, Huey's (is S32, S33, S34), \n",
    "# nathan's cyclic thing, fail_date_score, useful date columns\n",
    "X = features.fit_transform(1)\n",
    "y = base['Response']"
   ]
  },
  {
   "cell_type": "code",
   "execution_count": 54,
   "metadata": {
    "ExecuteTime": {
     "end_time": "2016-10-26T17:45:08.373897",
     "start_time": "2016-10-26T17:43:58.649052"
    },
    "collapsed": false
   },
   "outputs": [],
   "source": [
    "test = make_union(LoadCSV('data/test_fail_date_score.csv'), \n",
    "                  LoadCSV('data/test_min_date.csv'),\n",
    "                  LoadCSV('data/test_numeric.csv', usecols = numeric_usecols))\n",
    "test = test.fit_transform(1)\n",
    "\n",
    "if X.shape[1] != test.shape[1]:\n",
    "    print('loaded in CSVs wrong')\n",
    "\n",
    "clf = XGBClassifier(base_score=0.005, seed=24)\n",
    "clf.fit(X,y)\n",
    "#original_preds = np.ones(y.shape[0])\n",
    "original_raw_preds = clf.predict_proba(X)\n",
    "original_preds = (clf.predict_proba(X)[:,1] > 0.05).astype(np.int8)\n",
    "newpreds = (clf.predict_proba(test)[:,1] > 0.05).astype(np.int8)"
   ]
  },
  {
   "cell_type": "code",
   "execution_count": 55,
   "metadata": {
    "ExecuteTime": {
     "end_time": "2016-10-26T17:45:08.387434",
     "start_time": "2016-10-26T17:45:08.375401"
    },
    "collapsed": false
   },
   "outputs": [
    {
     "name": "stdout",
     "output_type": "stream",
     "text": [
      "36099 6879 36108\n"
     ]
    }
   ],
   "source": [
    "print(original_preds.sum(),y.sum(),newpreds.sum())\n"
   ]
  },
  {
   "cell_type": "code",
   "execution_count": 56,
   "metadata": {
    "ExecuteTime": {
     "end_time": "2016-10-26T17:45:14.780368",
     "start_time": "2016-10-26T17:45:08.390443"
    },
    "collapsed": false
   },
   "outputs": [],
   "source": [
    "# Submit\n",
    "sub = pd.read_csv(\"data/sample_submission.csv\", index_col=0)\n",
    "sub[\"Response\"] = newpreds\n",
    "sub.to_csv(\"davesubmission.csv.gz\", compression=\"gzip\")"
   ]
  },
  {
   "cell_type": "code",
   "execution_count": 57,
   "metadata": {
    "ExecuteTime": {
     "end_time": "2016-10-26T17:45:14.788394",
     "start_time": "2016-10-26T17:45:14.782378"
    },
    "collapsed": false
   },
   "outputs": [],
   "source": [
    "# individual import statements for every feature, comment these out if needed\n",
    "#LoadCSV('data/train_fail_date_score.csv').fit_transform()\n",
    "#union = FeatureUnion([('first', LoadCSV('data/train_fail_date_score.csv'))])\n",
    "#                      #('second', LoadCSV('data/train_numeric.csv'))])\n",
    "\n",
    "\n",
    "\n",
    "#pipe = Pipeline([('union', features),\n",
    "#                 ('linear', XGBClassifier(base_score=0.005, seed=24))])\n",
    "#pipe.fit(np.linspace(1,2,num=nrows),base['Response'])\n",
    "#y = pipe.predict(target)\n"
   ]
  },
  {
   "cell_type": "code",
   "execution_count": 58,
   "metadata": {
    "ExecuteTime": {
     "end_time": "2016-10-26T17:45:14.827498",
     "start_time": "2016-10-26T17:45:14.792908"
    },
    "collapsed": false
   },
   "outputs": [],
   "source": [
    "#features.transform(1)"
   ]
  },
  {
   "cell_type": "code",
   "execution_count": 59,
   "metadata": {
    "ExecuteTime": {
     "end_time": "2016-10-26T17:45:14.858581",
     "start_time": "2016-10-26T17:45:14.831008"
    },
    "collapsed": true
   },
   "outputs": [],
   "source": [
    "# one featureunion for everything if possible\n",
    "## always new code cell for testing pipelines"
   ]
  }
 ],
 "metadata": {
  "anaconda-cloud": {},
  "kernelspec": {
   "display_name": "Python [conda root]",
   "language": "python",
   "name": "conda-root-py"
  },
  "language_info": {
   "codemirror_mode": {
    "name": "ipython",
    "version": 3
   },
   "file_extension": ".py",
   "mimetype": "text/x-python",
   "name": "python",
   "nbconvert_exporter": "python",
   "pygments_lexer": "ipython3",
   "version": "3.5.2"
  }
 },
 "nbformat": 4,
 "nbformat_minor": 1
}
