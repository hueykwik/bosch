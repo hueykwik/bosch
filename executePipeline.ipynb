{
 "cells": [
  {
   "cell_type": "code",
   "execution_count": 1,
   "metadata": {
    "ExecuteTime": {
     "end_time": "2016-10-24T17:14:51.553990",
     "start_time": "2016-10-24T17:14:50.698512"
    },
    "collapsed": true
   },
   "outputs": [],
   "source": [
    "import pandas as pd\n",
    "from sklearn.base import TransformerMixin\n",
    "from numpy import ravel\n",
    "import numpy as np\n",
    "from xgboost import XGBClassifier\n",
    "import matplotlib.pyplot as plt\n",
    "from sklearn.pipeline import Pipeline, FeatureUnion\n",
    "\n",
    "data_path = 'data/'"
   ]
  },
  {
   "cell_type": "code",
   "execution_count": 2,
   "metadata": {
    "ExecuteTime": {
     "end_time": "2016-10-24T17:14:51.577984",
     "start_time": "2016-10-24T17:14:51.555924"
    },
    "collapsed": true
   },
   "outputs": [],
   "source": [
    "# contains all methods and classes for FeatureUnion\n",
    "## generic read_csv\n",
    "\n",
    "#example\n",
    "class Regular(TransformerMixin):\n",
    "    #return itself\n",
    "    def fit(self, x, y=None):\n",
    "        return self\n",
    "    \n",
    "    def transform(self, X):\n",
    "        print(X.shape)\n",
    "        return X\n",
    "\n",
    "#example\n",
    "class LoadCSV(TransformerMixin):\n",
    "    def __init__(self, filename):\n",
    "        # TODO build in args so that we can pass things to read_csv\n",
    "        self.filename = filename\n",
    "    \n",
    "    def fit(self, x, y=None):\n",
    "        return self\n",
    "    \n",
    "    def transform(self, X):\n",
    "        # we assume the first CSV entry is always the ID\n",
    "        return pd.read_csv(self.filename, index_col = 0)\n",
    "\n",
    "\n",
    "    \n",
    "# reg = Regular()\n",
    "# feature = LoadCSV('file.csv')"
   ]
  },
  {
   "cell_type": "code",
   "execution_count": 3,
   "metadata": {
    "ExecuteTime": {
     "end_time": "2016-10-24T17:15:08.225793",
     "start_time": "2016-10-24T17:14:52.668984"
    },
    "collapsed": true
   },
   "outputs": [],
   "source": [
    "# load in targets\n",
    "base = pd.read_csv(\"data/train_numeric.csv\", usecols = ['Id','Response'])\n",
    "target = base.loc[:,['Response']]"
   ]
  },
  {
   "cell_type": "code",
   "execution_count": 4,
   "metadata": {
    "ExecuteTime": {
     "end_time": "2016-10-24T17:15:08.229808",
     "start_time": "2016-10-24T17:15:08.227301"
    },
    "collapsed": false
   },
   "outputs": [],
   "source": [
    "nrows = len(base)"
   ]
  },
  {
   "cell_type": "code",
   "execution_count": null,
   "metadata": {
    "ExecuteTime": {
     "start_time": "2016-10-25T00:17:29.678Z"
    },
    "collapsed": true
   },
   "outputs": [],
   "source": [
    "from sklearn.pipeline import make_union\n",
    "\n",
    "features = make_union(LoadCSV('data/train_fail_date_score.csv'))\n",
    "X = features.fit_transform(1)\n",
    "y = base['Response']\n",
    "\n",
    "XGBClassifier(base_score=0.005, seed=24).fit(X, y)"
   ]
  },
  {
   "cell_type": "code",
   "execution_count": null,
   "metadata": {
    "ExecuteTime": {
     "start_time": "2016-10-25T00:14:32.218Z"
    },
    "collapsed": false
   },
   "outputs": [],
   "source": [
    "# individual import statements for every feature, comment these out if needed\n",
    "#LoadCSV('data/train_fail_date_score.csv').fit_transform()\n",
    "union = FeatureUnion([('first', LoadCSV('data/train_fail_date_score.csv'))])\n",
    "                      #('second', LoadCSV('data/train_numeric.csv'))])\n",
    "\n",
    "\n",
    "\n",
    "pipe = Pipeline([('union', union),\n",
    "                 ('linear', XGBClassifier(base_score=0.005, seed=24))])\n",
    "pipe.fit(np.linspace(1,2,num=nrows),base['Response'])\n",
    "#y = pipe.predict(target)\n"
   ]
  },
  {
   "cell_type": "code",
   "execution_count": null,
   "metadata": {
    "collapsed": true
   },
   "outputs": [],
   "source": [
    "# one featureunion for everything if possible\n",
    "## always new code cell for testing pipelines"
   ]
  }
 ],
 "metadata": {
  "anaconda-cloud": {},
  "kernelspec": {
   "display_name": "Python [conda root]",
   "language": "python",
   "name": "conda-root-py"
  },
  "language_info": {
   "codemirror_mode": {
    "name": "ipython",
    "version": 3
   },
   "file_extension": ".py",
   "mimetype": "text/x-python",
   "name": "python",
   "nbconvert_exporter": "python",
   "pygments_lexer": "ipython3",
   "version": "3.5.2"
  }
 },
 "nbformat": 4,
 "nbformat_minor": 1
}
