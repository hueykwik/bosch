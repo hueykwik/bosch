{
 "cells": [
  {
   "cell_type": "code",
   "execution_count": 1,
   "metadata": {
    "collapsed": true
   },
   "outputs": [],
   "source": [
    "import numpy as np\n",
    "import pandas as pd\n",
    "import os"
   ]
  },
  {
   "cell_type": "code",
   "execution_count": 2,
   "metadata": {
    "collapsed": false
   },
   "outputs": [
    {
     "name": "stdout",
     "output_type": "stream",
     "text": [
      "/Users/nathanhelm-burger/Documents/Stats/Bosch Kaggle/bosch\n"
     ]
    }
   ],
   "source": [
    "cwd = os.getcwd()\n",
    "print(cwd)\n",
    "datapath = cwd + '/../'"
   ]
  },
  {
   "cell_type": "code",
   "execution_count": null,
   "metadata": {
    "collapsed": true
   },
   "outputs": [],
   "source": [
    "successfail = pd.read_csv(datapath + 'response_code.csv')"
   ]
  },
  {
   "cell_type": "code",
   "execution_count": null,
   "metadata": {
    "collapsed": true
   },
   "outputs": [],
   "source": [
    "date_ids = pd.read_csv(datapath + 'date_ids.csv')"
   ]
  },
  {
   "cell_type": "code",
   "execution_count": null,
   "metadata": {
    "collapsed": true
   },
   "outputs": [],
   "source": [
    "date_ids_df = pd.DataFrame({'date_id_list':date_ids,\n",
    "                       'successes':0,\n",
    "                       'failures':0,\n",
    "                       'totals':0})"
   ]
  },
  {
   "cell_type": "code",
   "execution_count": null,
   "metadata": {
    "collapsed": true
   },
   "outputs": [],
   "source": [
    "# This part takes a long time!\n",
    "successes = np.zeros(len(date_ids_df))\n",
    "failures = np.zeros(len(date_ids_df))\n",
    "for rownum in range(date_ids_df.shape[0]):\n",
    "  for item in date_ids_df.iloc[rownum,0]:\n",
    "    temp_result = successfail.loc[item, 'Response']\n",
    "    if temp_result == 0:\n",
    "      successes[rownum] += 1\n",
    "    elif temp_result == 1:\n",
    "      failures[rownum] += 1"
   ]
  },
  {
   "cell_type": "code",
   "execution_count": null,
   "metadata": {
    "collapsed": true
   },
   "outputs": [],
   "source": [
    "date_ids_df['failures'] = failures\n",
    "date_ids_df['successes'] = successes\n",
    "date_ids_df['totals'] = date_ids_df.failures + date_ids_df.successes"
   ]
  },
  {
   "cell_type": "code",
   "execution_count": null,
   "metadata": {
    "collapsed": true
   },
   "outputs": [],
   "source": [
    "print(date_ids_df.head(1))"
   ]
  },
  {
   "cell_type": "code",
   "execution_count": null,
   "metadata": {
    "collapsed": true
   },
   "outputs": [],
   "source": [
    "date_ids_df.to_csv('../date_ids_df.csv')"
   ]
  }
 ],
 "metadata": {
  "kernelspec": {
   "display_name": "Python 3",
   "language": "python",
   "name": "python3"
  },
  "language_info": {
   "codemirror_mode": {
    "name": "ipython",
    "version": 3
   },
   "file_extension": ".py",
   "mimetype": "text/x-python",
   "name": "python",
   "nbconvert_exporter": "python",
   "pygments_lexer": "ipython3",
   "version": "3.4.3"
  }
 },
 "nbformat": 4,
 "nbformat_minor": 0
}
