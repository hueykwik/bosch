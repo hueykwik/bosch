{
 "cells": [
  {
   "cell_type": "code",
   "execution_count": 1,
   "metadata": {
    "ExecuteTime": {
     "end_time": "2016-10-09T22:06:37.503316",
     "start_time": "2016-10-09T22:06:24.200443"
    },
    "collapsed": false
   },
   "outputs": [
    {
     "name": "stderr",
     "output_type": "stream",
     "text": [
      "/Users/hkwik/anaconda/lib/python2.7/site-packages/sklearn/cross_validation.py:44: DeprecationWarning: This module was deprecated in version 0.18 in favor of the model_selection module into which all the refactored classes and functions are moved. Also note that the interface of the new CV iterators are different from that of this module. This module will be removed in 0.20.\n",
      "  \"This module will be removed in 0.20.\", DeprecationWarning)\n"
     ]
    },
    {
     "name": "stdout",
     "output_type": "stream",
     "text": [
      "{\n",
      "  \"stdin_port\": 61435, \n",
      "  \"ip\": \"127.0.0.1\", \n",
      "  \"control_port\": 61436, \n",
      "  \"hb_port\": 61437, \n",
      "  \"signature_scheme\": \"hmac-sha256\", \n",
      "  \"key\": \"baa78c73-7853-4494-a3e8-709a62d63ed2\", \n",
      "  \"kernel_name\": \"\", \n",
      "  \"shell_port\": 61433, \n",
      "  \"transport\": \"tcp\", \n",
      "  \"iopub_port\": 61434\n",
      "}\n",
      "\n",
      "Paste the above JSON into a file, and connect with:\n",
      "    $> ipython <app> --existing <file>\n",
      "or, if you are local, you can connect with just:\n",
      "    $> ipython <app> --existing /Users/hkwik/Library/Jupyter/runtime/kernel-d459023d-e08e-4353-a7f6-7c0f48e98a16.json \n",
      "or even just:\n",
      "    $> ipython <app> --existing \n",
      "if this is the most recent IPython session you have started.\n"
     ]
    }
   ],
   "source": [
    "import numpy as np\n",
    "import pandas as pd\n",
    "from xgboost import XGBClassifier\n",
    "from sklearn.metrics import matthews_corrcoef, roc_auc_score\n",
    "from sklearn.cross_validation import cross_val_score, StratifiedKFold\n",
    "import matplotlib.pyplot as plt\n",
    "import seaborn as sns\n",
    "import gc\n",
    "\n",
    "from __future__ import absolute_import, division, print_function\n",
    "\n",
    "%matplotlib inline\n",
    "%connect_info"
   ]
  },
  {
   "cell_type": "markdown",
   "metadata": {},
   "source": [
    "# Find Important Columns"
   ]
  },
  {
   "cell_type": "code",
   "execution_count": 2,
   "metadata": {
    "ExecuteTime": {
     "end_time": "2016-10-09T22:12:32.456838",
     "start_time": "2016-10-09T22:07:28.010251"
    },
    "collapsed": true
   },
   "outputs": [],
   "source": [
    "date_chunks = pd.read_csv(\"data/train_date.csv\", index_col=0, chunksize=100000, dtype=np.float32)\n",
    "num_chunks = pd.read_csv(\"data/train_numeric.csv\", index_col=0,\n",
    "                         usecols=list(range(969)), chunksize=100000, dtype=np.float32)\n",
    "X = pd.concat([pd.concat([dchunk, nchunk], axis=1).sample(frac=0.05, random_state=24)\n",
    "               for dchunk, nchunk in zip(date_chunks, num_chunks)])\n",
    "y = pd.read_csv(\"data/train_numeric.csv\", index_col=0, usecols=[0,969], dtype=np.float32).loc[X.index].values.ravel()"
   ]
  },
  {
   "cell_type": "code",
   "execution_count": 5,
   "metadata": {
    "ExecuteTime": {
     "end_time": "2016-10-09T22:12:55.112017",
     "start_time": "2016-10-09T22:12:55.066712"
    },
    "collapsed": false
   },
   "outputs": [
    {
     "data": {
      "text/html": [
       "<div>\n",
       "<table border=\"1\" class=\"dataframe\">\n",
       "  <thead>\n",
       "    <tr style=\"text-align: right;\">\n",
       "      <th></th>\n",
       "      <th>L0_S0_D1</th>\n",
       "      <th>L0_S0_D3</th>\n",
       "      <th>L0_S0_D5</th>\n",
       "      <th>L0_S0_D7</th>\n",
       "      <th>L0_S0_D9</th>\n",
       "      <th>L0_S0_D11</th>\n",
       "      <th>L0_S0_D13</th>\n",
       "      <th>L0_S0_D15</th>\n",
       "      <th>L0_S0_D17</th>\n",
       "      <th>L0_S0_D19</th>\n",
       "      <th>...</th>\n",
       "      <th>L3_S50_F4243</th>\n",
       "      <th>L3_S50_F4245</th>\n",
       "      <th>L3_S50_F4247</th>\n",
       "      <th>L3_S50_F4249</th>\n",
       "      <th>L3_S50_F4251</th>\n",
       "      <th>L3_S50_F4253</th>\n",
       "      <th>L3_S51_F4256</th>\n",
       "      <th>L3_S51_F4258</th>\n",
       "      <th>L3_S51_F4260</th>\n",
       "      <th>L3_S51_F4262</th>\n",
       "    </tr>\n",
       "    <tr>\n",
       "      <th>Id</th>\n",
       "      <th></th>\n",
       "      <th></th>\n",
       "      <th></th>\n",
       "      <th></th>\n",
       "      <th></th>\n",
       "      <th></th>\n",
       "      <th></th>\n",
       "      <th></th>\n",
       "      <th></th>\n",
       "      <th></th>\n",
       "      <th></th>\n",
       "      <th></th>\n",
       "      <th></th>\n",
       "      <th></th>\n",
       "      <th></th>\n",
       "      <th></th>\n",
       "      <th></th>\n",
       "      <th></th>\n",
       "      <th></th>\n",
       "      <th></th>\n",
       "      <th></th>\n",
       "    </tr>\n",
       "  </thead>\n",
       "  <tbody>\n",
       "    <tr>\n",
       "      <th>183323.0</th>\n",
       "      <td>264.600006</td>\n",
       "      <td>264.600006</td>\n",
       "      <td>264.600006</td>\n",
       "      <td>264.600006</td>\n",
       "      <td>264.600006</td>\n",
       "      <td>264.600006</td>\n",
       "      <td>264.600006</td>\n",
       "      <td>264.600006</td>\n",
       "      <td>264.600006</td>\n",
       "      <td>264.600006</td>\n",
       "      <td>...</td>\n",
       "      <td>NaN</td>\n",
       "      <td>NaN</td>\n",
       "      <td>NaN</td>\n",
       "      <td>NaN</td>\n",
       "      <td>NaN</td>\n",
       "      <td>NaN</td>\n",
       "      <td>NaN</td>\n",
       "      <td>NaN</td>\n",
       "      <td>NaN</td>\n",
       "      <td>NaN</td>\n",
       "    </tr>\n",
       "    <tr>\n",
       "      <th>23593.0</th>\n",
       "      <td>336.799988</td>\n",
       "      <td>336.799988</td>\n",
       "      <td>336.799988</td>\n",
       "      <td>336.799988</td>\n",
       "      <td>336.799988</td>\n",
       "      <td>336.799988</td>\n",
       "      <td>336.799988</td>\n",
       "      <td>336.799988</td>\n",
       "      <td>336.799988</td>\n",
       "      <td>336.799988</td>\n",
       "      <td>...</td>\n",
       "      <td>NaN</td>\n",
       "      <td>NaN</td>\n",
       "      <td>NaN</td>\n",
       "      <td>NaN</td>\n",
       "      <td>NaN</td>\n",
       "      <td>NaN</td>\n",
       "      <td>NaN</td>\n",
       "      <td>NaN</td>\n",
       "      <td>NaN</td>\n",
       "      <td>NaN</td>\n",
       "    </tr>\n",
       "    <tr>\n",
       "      <th>27367.0</th>\n",
       "      <td>1364.890015</td>\n",
       "      <td>1364.890015</td>\n",
       "      <td>1364.890015</td>\n",
       "      <td>1364.890015</td>\n",
       "      <td>1364.890015</td>\n",
       "      <td>1364.890015</td>\n",
       "      <td>1364.890015</td>\n",
       "      <td>1364.890015</td>\n",
       "      <td>1364.890015</td>\n",
       "      <td>1364.890015</td>\n",
       "      <td>...</td>\n",
       "      <td>NaN</td>\n",
       "      <td>NaN</td>\n",
       "      <td>NaN</td>\n",
       "      <td>NaN</td>\n",
       "      <td>NaN</td>\n",
       "      <td>NaN</td>\n",
       "      <td>NaN</td>\n",
       "      <td>NaN</td>\n",
       "      <td>NaN</td>\n",
       "      <td>NaN</td>\n",
       "    </tr>\n",
       "    <tr>\n",
       "      <th>19741.0</th>\n",
       "      <td>225.039993</td>\n",
       "      <td>225.039993</td>\n",
       "      <td>225.039993</td>\n",
       "      <td>225.039993</td>\n",
       "      <td>225.039993</td>\n",
       "      <td>225.039993</td>\n",
       "      <td>225.039993</td>\n",
       "      <td>225.039993</td>\n",
       "      <td>225.039993</td>\n",
       "      <td>225.039993</td>\n",
       "      <td>...</td>\n",
       "      <td>NaN</td>\n",
       "      <td>NaN</td>\n",
       "      <td>NaN</td>\n",
       "      <td>NaN</td>\n",
       "      <td>NaN</td>\n",
       "      <td>NaN</td>\n",
       "      <td>NaN</td>\n",
       "      <td>NaN</td>\n",
       "      <td>NaN</td>\n",
       "      <td>NaN</td>\n",
       "    </tr>\n",
       "    <tr>\n",
       "      <th>190542.0</th>\n",
       "      <td>1375.979980</td>\n",
       "      <td>1375.979980</td>\n",
       "      <td>1375.979980</td>\n",
       "      <td>1375.979980</td>\n",
       "      <td>1375.979980</td>\n",
       "      <td>1375.979980</td>\n",
       "      <td>1375.979980</td>\n",
       "      <td>1375.979980</td>\n",
       "      <td>1375.979980</td>\n",
       "      <td>1375.979980</td>\n",
       "      <td>...</td>\n",
       "      <td>NaN</td>\n",
       "      <td>NaN</td>\n",
       "      <td>NaN</td>\n",
       "      <td>NaN</td>\n",
       "      <td>NaN</td>\n",
       "      <td>NaN</td>\n",
       "      <td>0.0</td>\n",
       "      <td>0.0</td>\n",
       "      <td>0.0</td>\n",
       "      <td>0.0</td>\n",
       "    </tr>\n",
       "  </tbody>\n",
       "</table>\n",
       "<p>5 rows × 2124 columns</p>\n",
       "</div>"
      ],
      "text/plain": [
       "             L0_S0_D1     L0_S0_D3     L0_S0_D5     L0_S0_D7     L0_S0_D9  \\\n",
       "Id                                                                          \n",
       "183323.0   264.600006   264.600006   264.600006   264.600006   264.600006   \n",
       "23593.0    336.799988   336.799988   336.799988   336.799988   336.799988   \n",
       "27367.0   1364.890015  1364.890015  1364.890015  1364.890015  1364.890015   \n",
       "19741.0    225.039993   225.039993   225.039993   225.039993   225.039993   \n",
       "190542.0  1375.979980  1375.979980  1375.979980  1375.979980  1375.979980   \n",
       "\n",
       "            L0_S0_D11    L0_S0_D13    L0_S0_D15    L0_S0_D17    L0_S0_D19  \\\n",
       "Id                                                                          \n",
       "183323.0   264.600006   264.600006   264.600006   264.600006   264.600006   \n",
       "23593.0    336.799988   336.799988   336.799988   336.799988   336.799988   \n",
       "27367.0   1364.890015  1364.890015  1364.890015  1364.890015  1364.890015   \n",
       "19741.0    225.039993   225.039993   225.039993   225.039993   225.039993   \n",
       "190542.0  1375.979980  1375.979980  1375.979980  1375.979980  1375.979980   \n",
       "\n",
       "              ...       L3_S50_F4243  L3_S50_F4245  L3_S50_F4247  \\\n",
       "Id            ...                                                  \n",
       "183323.0      ...                NaN           NaN           NaN   \n",
       "23593.0       ...                NaN           NaN           NaN   \n",
       "27367.0       ...                NaN           NaN           NaN   \n",
       "19741.0       ...                NaN           NaN           NaN   \n",
       "190542.0      ...                NaN           NaN           NaN   \n",
       "\n",
       "          L3_S50_F4249  L3_S50_F4251  L3_S50_F4253  L3_S51_F4256  \\\n",
       "Id                                                                 \n",
       "183323.0           NaN           NaN           NaN           NaN   \n",
       "23593.0            NaN           NaN           NaN           NaN   \n",
       "27367.0            NaN           NaN           NaN           NaN   \n",
       "19741.0            NaN           NaN           NaN           NaN   \n",
       "190542.0           NaN           NaN           NaN           0.0   \n",
       "\n",
       "          L3_S51_F4258  L3_S51_F4260  L3_S51_F4262  \n",
       "Id                                                  \n",
       "183323.0           NaN           NaN           NaN  \n",
       "23593.0            NaN           NaN           NaN  \n",
       "27367.0            NaN           NaN           NaN  \n",
       "19741.0            NaN           NaN           NaN  \n",
       "190542.0           0.0           0.0           0.0  \n",
       "\n",
       "[5 rows x 2124 columns]"
      ]
     },
     "execution_count": 5,
     "metadata": {},
     "output_type": "execute_result"
    }
   ],
   "source": [
    "X.head()"
   ]
  },
  {
   "cell_type": "code",
   "execution_count": 4,
   "metadata": {
    "ExecuteTime": {
     "end_time": "2016-10-09T22:12:32.668210",
     "start_time": "2016-10-09T22:12:32.663407"
    },
    "collapsed": false
   },
   "outputs": [
    {
     "data": {
      "text/plain": [
       "array([ 0.,  0.,  0., ...,  0.,  1.,  0.], dtype=float32)"
      ]
     },
     "execution_count": 4,
     "metadata": {},
     "output_type": "execute_result"
    }
   ],
   "source": [
    "y"
   ]
  },
  {
   "cell_type": "code",
   "execution_count": 6,
   "metadata": {
    "ExecuteTime": {
     "end_time": "2016-10-09T22:16:47.679047",
     "start_time": "2016-10-09T22:13:46.387303"
    },
    "collapsed": false
   },
   "outputs": [
    {
     "name": "stdout",
     "output_type": "stream",
     "text": [
      "[  34  831  939 1018 1019 1029 1034 1159 1168 1169 1177 1180 1182 1183 1186\n",
      " 1188 1190 1191 1210 1228 1236 1249 1250 1258 1261 1267 1270 1274 1282 1283\n",
      " 1288 1297 1306 1468 1483 1487 1516 1549 1550 1551 1838 1846 1847 1851 1876\n",
      " 1880 1886 1888 1889 1890 1892 1899 1911 1914 1927 1932 1934 1940 1942 1944\n",
      " 1954 1955 1958 1960 1970 1982 1983 1984 1985 1987 1988 2004 2006 2007 2020\n",
      " 2022 2038 2040 2060 2093]\n"
     ]
    },
    {
     "data": {
      "image/png": "[encoded data removed]",
      "text/plain": [
       "<matplotlib.figure.Figure at 0x119b02750>"
      ]
     },
     "metadata": {},
     "output_type": "display_data"
    }
   ],
   "source": [
    "clf = XGBClassifier(base_score=0.005, seed=24)\n",
    "clf.fit(X, y)\n",
    "\n",
    "#### threshold for a manageable number of features\n",
    "plt.hist(clf.feature_importances_[clf.feature_importances_>0])\n",
    "important_indices = np.where(clf.feature_importances_>0.005)[0]\n",
    "print(important_indices)"
   ]
  },
  {
   "cell_type": "markdown",
   "metadata": {},
   "source": [
    "# Min Date Engineering"
   ]
  },
  {
   "cell_type": "code",
   "execution_count": 20,
   "metadata": {
    "ExecuteTime": {
     "end_time": "2016-10-09T22:26:01.943218",
     "start_time": "2016-10-09T22:26:01.892030"
    },
    "collapsed": true
   },
   "outputs": [],
   "source": [
    "def get_date_features():\n",
    "    \n",
    "    features = pd.read_csv('data/train_date.csv', nrows=1).columns\n",
    "    \n",
    "    seen = np.zeros(52)\n",
    "    \n",
    "    rv = []\n",
    "    for f in features:\n",
    "        if f == 'Id' or 'S24' in f or 'S25' in f:\n",
    "            rv.append(f)\n",
    "            continue\n",
    "            \n",
    "        station = int(f.split('_')[1][1:])\n",
    "#        print(station)\n",
    "        \n",
    "        if seen[station]:\n",
    "            continue\n",
    "        \n",
    "        seen[station] = 1\n",
    "        rv.append(f)\n",
    "        \n",
    "    return rv\n",
    "        \n",
    "useful_date_features = get_date_features()"
   ]
  },
  {
   "cell_type": "code",
   "execution_count": 21,
   "metadata": {
    "ExecuteTime": {
     "end_time": "2016-10-09T22:29:46.189806",
     "start_time": "2016-10-09T22:26:03.738742"
    },
    "collapsed": false
   },
   "outputs": [
    {
     "name": "stdout",
     "output_type": "stream",
     "text": [
      "0\n",
      "1\n",
      "2\n",
      "3\n",
      "4\n",
      "5\n",
      "6\n",
      "7\n",
      "8\n",
      "9\n",
      "10\n",
      "11\n",
      "12\n",
      "13\n",
      "14\n",
      "15\n",
      "16\n",
      "17\n",
      "18\n",
      "19\n",
      "20\n",
      "21\n",
      "22\n",
      "23\n"
     ]
    }
   ],
   "source": [
    "def get_mindate():\n",
    "    directory = 'data/'\n",
    "    trainfile = 'train_date.csv'\n",
    "    testfile = 'test_date.csv'\n",
    "    \n",
    "    features = None\n",
    "    subset = None\n",
    "    \n",
    "    for i, chunk in enumerate(pd.read_csv(directory + trainfile,\n",
    "                                          usecols=useful_date_features,\n",
    "                                          chunksize=50000,\n",
    "                                          low_memory=False)):\n",
    "        #print(i)\n",
    "        \n",
    "        if features is None:\n",
    "            features = list(chunk.columns)\n",
    "            features.remove('Id')\n",
    "        \n",
    "        df_mindate_chunk = chunk[['Id']].copy()\n",
    "        df_mindate_chunk['mindate'] = chunk[features].min(axis=1).values\n",
    "        \n",
    "        if subset is None:\n",
    "            subset = df_mindate_chunk.copy()\n",
    "        else:\n",
    "            subset = pd.concat([subset, df_mindate_chunk])\n",
    "            \n",
    "        del chunk\n",
    "        gc.collect()\n",
    "\n",
    "    for i, chunk in enumerate(pd.read_csv(directory + testfile,\n",
    "                                          usecols=useful_date_features,\n",
    "                                          chunksize=50000,\n",
    "                                          low_memory=False)):\n",
    "        print(i)\n",
    "        \n",
    "        df_mindate_chunk = chunk[['Id']].copy()\n",
    "        df_mindate_chunk['mindate'] = chunk[features].min(axis=1).values\n",
    "        subset = pd.concat([subset, df_mindate_chunk])\n",
    "        \n",
    "        del chunk\n",
    "        gc.collect()      \n",
    "        \n",
    "    return subset\n",
    "\n",
    "\n",
    "df_mindate = get_mindate()\n",
    "\n",
    "# Group by mindate and id\n",
    "df_mindate.sort_values(by=['mindate', 'Id'], inplace=True)\n",
    "\n",
    "# Subtracts id from previous id\n",
    "df_mindate['mindate_id_diff'] = df_mindate.Id.diff()\n",
    "\n",
    "# Make a NaN array with the same shape as df_mindate.mindate_id_diff\n",
    "# Fill it with the sign flipped, starting at index 1\n",
    "midr = np.full_like(df_mindate.mindate_id_diff.values, np.nan)\n",
    "midr[0:-1] = -df_mindate.mindate_id_diff.values[1:]\n",
    "\n",
    "df_mindate['mindate_id_diff_reverse'] = midr"
   ]
  },
  {
   "cell_type": "markdown",
   "metadata": {},
   "source": [
    "# Training\n",
    "I manually added \"Id,Fail\" as the first line to fail_date_score and fail_date_score.csv"
   ]
  },
  {
   "cell_type": "code",
   "execution_count": 121,
   "metadata": {
    "ExecuteTime": {
     "end_time": "2016-10-09T23:15:40.630810",
     "start_time": "2016-10-09T23:14:31.268721"
    },
    "collapsed": true
   },
   "outputs": [],
   "source": [
    "n_date_features = 1156\n",
    "\n",
    "X = pd.concat([\n",
    "    pd.read_csv(\"data/train_date.csv\", index_col=0, dtype=np.float32,\n",
    "                usecols=np.concatenate([[0], important_indices[important_indices < n_date_features] + 1])),\n",
    "    pd.read_csv(\"data/train_numeric.csv\", index_col=0, dtype=np.float32,\n",
    "                usecols=np.concatenate([[0], important_indices[important_indices >= n_date_features] + 1 - 1156])),\n",
    "    pd.read_csv(\"fail_date_score.csv\", index_col=0, dtype=np.float32)], axis=1)\n",
    "\n",
    "y = pd.read_csv(\"data/train_numeric.csv\", index_col=0, dtype=np.float32, usecols=[0,969]).values.ravel()"
   ]
  },
  {
   "cell_type": "code",
   "execution_count": 122,
   "metadata": {
    "ExecuteTime": {
     "end_time": "2016-10-09T23:16:33.283313",
     "start_time": "2016-10-09T23:15:40.633184"
    },
    "collapsed": false
   },
   "outputs": [],
   "source": [
    "X_test = pd.concat([\n",
    "    pd.read_csv(\"data/test_date.csv\", index_col=0, dtype=np.float32,\n",
    "                usecols=np.concatenate([[0], important_indices[important_indices < n_date_features] + 1])),\n",
    "    pd.read_csv(\"data/test_numeric.csv\", index_col=0, dtype=np.float32,\n",
    "                usecols=np.concatenate([[0], important_indices[important_indices >= n_date_features] + 1 - 1156])),\n",
    "    pd.read_csv(\"fail_date_score_test.csv\", index_col=0, dtype=np.float32)], axis=1)"
   ]
  },
  {
   "cell_type": "code",
   "execution_count": 123,
   "metadata": {
    "ExecuteTime": {
     "end_time": "2016-10-09T23:16:33.289362",
     "start_time": "2016-10-09T23:16:33.285221"
    },
    "collapsed": false
   },
   "outputs": [
    {
     "name": "stdout",
     "output_type": "stream",
     "text": [
      "(1183747, 81)\n",
      "(1183748, 81)\n"
     ]
    }
   ],
   "source": [
    "# Want this to be (1183748, n_cols)\n",
    "print(X.shape)\n",
    "print(X_test.shape)"
   ]
  },
  {
   "cell_type": "code",
   "execution_count": 126,
   "metadata": {
    "ExecuteTime": {
     "end_time": "2016-10-09T23:16:50.879322",
     "start_time": "2016-10-09T23:16:50.873317"
    },
    "collapsed": false
   },
   "outputs": [
    {
     "data": {
      "text/plain": [
       "array([ True,  True,  True,  True,  True,  True,  True,  True,  True,\n",
       "        True,  True,  True,  True,  True,  True,  True,  True,  True,\n",
       "        True,  True,  True,  True,  True,  True,  True,  True,  True,\n",
       "        True,  True,  True,  True,  True,  True,  True,  True,  True,\n",
       "        True,  True,  True,  True,  True,  True,  True,  True,  True,\n",
       "        True,  True,  True,  True,  True,  True,  True,  True,  True,\n",
       "        True,  True,  True,  True,  True,  True,  True,  True,  True,\n",
       "        True,  True,  True,  True,  True,  True,  True,  True,  True,\n",
       "        True,  True,  True,  True,  True,  True,  True,  True,  True], dtype=bool)"
      ]
     },
     "execution_count": 126,
     "metadata": {},
     "output_type": "execute_result"
    }
   ],
   "source": [
    "X.columns == X_test.columns"
   ]
  },
  {
   "cell_type": "code",
   "execution_count": 127,
   "metadata": {
    "ExecuteTime": {
     "end_time": "2016-10-09T23:16:57.975126",
     "start_time": "2016-10-09T23:16:50.881080"
    },
    "collapsed": false
   },
   "outputs": [],
   "source": [
    "# Merge df_mindate into train and test\n",
    "X = pd.merge(X.reset_index(), df_mindate, on='Id')\n",
    "X_test = pd.merge(X_test.reset_index(), df_mindate, on='Id')"
   ]
  },
  {
   "cell_type": "code",
   "execution_count": 128,
   "metadata": {
    "ExecuteTime": {
     "end_time": "2016-10-09T23:38:50.218820",
     "start_time": "2016-10-09T23:16:57.977280"
    },
    "collapsed": false
   },
   "outputs": [
    {
     "name": "stdout",
     "output_type": "stream",
     "text": [
      "fold 0, ROC AUC: 0.907\n",
      "fold 1, ROC AUC: 0.901\n",
      "fold 2, ROC AUC: 0.882\n",
      "0.776305724506\n"
     ]
    }
   ],
   "source": [
    "# Train XGBClassifier\n",
    "clf = XGBClassifier(max_depth=5, base_score=0.005, seed=24)\n",
    "cv = StratifiedKFold(y, n_folds=3, random_state=24)\n",
    "preds = np.ones(y.shape[0])\n",
    "\n",
    "for i, (train, test) in enumerate(cv):\n",
    "    preds[test] = clf.fit(X.loc[train], y[train]).predict_proba(X.loc[test])[:,1]\n",
    "    print(\"fold {}, ROC AUC: {:.3f}\".format(i, roc_auc_score(y[test], preds[test])))\n",
    "print(roc_auc_score(y, preds))"
   ]
  },
  {
   "cell_type": "code",
   "execution_count": 129,
   "metadata": {
    "ExecuteTime": {
     "end_time": "2016-10-09T23:39:00.592183",
     "start_time": "2016-10-09T23:38:50.220547"
    },
    "collapsed": false
   },
   "outputs": [
    {
     "name": "stdout",
     "output_type": "stream",
     "text": [
      "0.212323946023\n"
     ]
    },
    {
     "data": {
      "image/png": "[encoded data removed]",
      "text/plain": [
       "<matplotlib.figure.Figure at 0x11aea01d0>"
      ]
     },
     "metadata": {},
     "output_type": "display_data"
    }
   ],
   "source": [
    "# Pick the best threshold out-of-fold\n",
    "thresholds = np.linspace(0.01, 0.99, 50)\n",
    "mcc = np.array([matthews_corrcoef(y_train, preds>thr) for thr in thresholds])\n",
    "plt.plot(thresholds, mcc)\n",
    "best_threshold = thresholds[mcc.argmax()]\n",
    "print(mcc.max())"
   ]
  },
  {
   "cell_type": "code",
   "execution_count": 131,
   "metadata": {
    "ExecuteTime": {
     "end_time": "2016-10-09T23:51:54.720693",
     "start_time": "2016-10-09T23:51:32.309308"
    },
    "collapsed": false
   },
   "outputs": [],
   "source": [
    "# Generate predictions at the chosen threshold\n",
    "preds = (clf.predict_proba(X_test)[:,1] > best_threshold).astype(np.int8)\n",
    "\n",
    "# Submit\n",
    "sub = pd.read_csv(\"data/sample_submission.csv\", index_col=0)\n",
    "sub[\"Response\"] = preds\n",
    "sub.to_csv(\"submission.csv.gz\", compression=\"gzip\")"
   ]
  },
  {
   "cell_type": "code",
   "execution_count": null,
   "metadata": {
    "collapsed": true
   },
   "outputs": [],
   "source": []
  }
 ],
 "metadata": {
  "kernelspec": {
   "display_name": "Python 2",
   "language": "python",
   "name": "python2"
  },
  "language_info": {
   "codemirror_mode": {
    "name": "ipython",
    "version": 2
   },
   "file_extension": ".py",
   "mimetype": "text/x-python",
   "name": "python",
   "nbconvert_exporter": "python",
   "pygments_lexer": "ipython2",
   "version": "2.7.12"
  }
 },
 "nbformat": 4,
 "nbformat_minor": 0
}
