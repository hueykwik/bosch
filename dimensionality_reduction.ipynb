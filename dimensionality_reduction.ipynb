{
 "cells": [
  {
   "cell_type": "code",
   "execution_count": null,
   "metadata": {
    "ExecuteTime": {
     "end_time": "2016-11-01T16:08:16.378632",
     "start_time": "2016-11-01T16:08:11.096586"
    },
    "collapsed": true
   },
   "outputs": [],
   "source": [
    "import pandas as pd\n",
    "from sklearn.decomposition import PCA\n",
    "from sklearn.preprocessing import Imputer\n",
    "import matplotlib.pyplot as plt"
   ]
  },
  {
   "cell_type": "code",
   "execution_count": 2,
   "metadata": {
    "ExecuteTime": {
     "end_time": "2016-11-01T16:08:38.979247",
     "start_time": "2016-11-01T16:08:16.390665"
    },
    "collapsed": true
   },
   "outputs": [],
   "source": [
    "signatures = pd.read_csv('signature_reference.csv',index_col = 0)\n",
    "df_small = pd.read_csv('data/train_numeric.csv', nrows = 200000)"
   ]
  },
  {
   "cell_type": "code",
   "execution_count": 3,
   "metadata": {
    "ExecuteTime": {
     "end_time": "2016-11-01T16:10:14.859200",
     "start_time": "2016-11-01T16:08:38.982254"
    },
    "collapsed": false
   },
   "outputs": [],
   "source": [
    "# train the imputer\n",
    "imp = Imputer(missing_values='NaN', strategy= 'mean', axis = 0)\n",
    "\n",
    "all_numerics = pd.read_csv('data/train_numeric.csv', chunksize = 100000)\n",
    "trainframe = pd.concat([chunk.sample(frac = 0.05) for chunk in all_numerics])\n",
    "imp.fit(trainframe.drop(['Id','Response'],axis = 1))"
   ]
  },
  {
   "cell_type": "code",
   "execution_count": 15,
   "metadata": {
    "ExecuteTime": {
     "end_time": "2016-11-01T16:38:55.628873",
     "start_time": "2016-11-01T16:36:06.524205"
    },
    "collapsed": false
   },
   "outputs": [],
   "source": [
    "chunkframe = pd.read_csv('data/test_numeric.csv',chunksize = 100000)\n",
    "pca = PCA(n_components = 2)\n",
    "pca.fit(imp.transform(trainframe.drop(['Id','Response'],axis = 1)))\n",
    "\n",
    "pca_test_result = pd.concat([pd.DataFrame(pca.transform(imp.transform(chunk.drop(['Id'],axis = 1)))) for chunk in chunkframe])\n"
   ]
  },
  {
   "cell_type": "code",
   "execution_count": 16,
   "metadata": {
    "ExecuteTime": {
     "end_time": "2016-11-01T16:39:05.714694",
     "start_time": "2016-11-01T16:38:55.630879"
    },
    "collapsed": false
   },
   "outputs": [],
   "source": [
    "pca_test_result.to_csv('data/test_pca2comp.csv')"
   ]
  },
  {
   "cell_type": "code",
   "execution_count": null,
   "metadata": {
    "ExecuteTime": {
     "end_time": "2016-11-01T15:27:53.404744",
     "start_time": "2016-11-01T15:27:01.673184"
    },
    "collapsed": false
   },
   "outputs": [],
   "source": [
    "imp = Imputer(missing_values='NaN', strategy= 'mean', axis = 0)\n",
    "\n",
    "pca = PCA(n_components=2)\n",
    "#pca.fit(imp.fit_transform(df_small.drop('Id',axis = 1)))"
   ]
  },
  {
   "cell_type": "code",
   "execution_count": null,
   "metadata": {
    "ExecuteTime": {
     "end_time": "2016-11-01T14:46:49.210775",
     "start_time": "2016-11-01T14:46:48.753522"
    },
    "collapsed": true
   },
   "outputs": [],
   "source": [
    "imp = Imputer(missing_values='NaN', strategy= 'mean', axis = 0)\n",
    "show = imp.fit_transform(df_small)"
   ]
  },
  {
   "cell_type": "code",
   "execution_count": null,
   "metadata": {
    "ExecuteTime": {
     "end_time": "2016-11-01T15:50:39.252715",
     "start_time": "2016-11-01T15:42:59.935883"
    },
    "collapsed": false,
    "scrolled": true
   },
   "outputs": [],
   "source": [
    "\n",
    "twocol = pca.fit(imp.fit_transform(df_small.drop('Id',axis = 1)))\n",
    "\n",
    "chunkframe = pd.read_csv('data/train_numeric.csv',chunksize = 100000)\n",
    "for chunk in chunkframe:\n",
    "    chunk\n",
    "allpoints = pca.transform(pd.read_csv('data/train_numeric.csv'))\n",
    "\n",
    "#plt.plot(pca.explained_variance_ratio_)\n",
    "#plt.xlim([-1,10])\n",
    "#plt.show()"
   ]
  },
  {
   "cell_type": "code",
   "execution_count": null,
   "metadata": {
    "ExecuteTime": {
     "end_time": "2016-11-01T15:50:39.258732",
     "start_time": "2016-11-01T22:43:00.268Z"
    },
    "collapsed": false
   },
   "outputs": [],
   "source": [
    "pd.DataFrame(allpoints).to_csv('tmp/2comp_pca_alltrain.csv')"
   ]
  },
  {
   "cell_type": "code",
   "execution_count": null,
   "metadata": {
    "ExecuteTime": {
     "end_time": "2016-11-01T15:39:13.063190",
     "start_time": "2016-11-01T15:39:02.416879"
    },
    "collapsed": false
   },
   "outputs": [],
   "source": [
    "colors = df_small.Response.copy()\n",
    "colors[colors == 0] = 'k'\n",
    "colors[colors == 1] = 'c'\n",
    "plt.scatter(twocol[:,0],twocol[:,1], c = colors,alpha = 0.2)\n",
    "axes = plt.gca()\n",
    "ylim = axes.get_ylim()\n",
    "xlim = axes.get_xlim()\n",
    "plt.show()\n"
   ]
  },
  {
   "cell_type": "code",
   "execution_count": null,
   "metadata": {
    "collapsed": true
   },
   "outputs": [],
   "source": [
    "# label every point in the dataset"
   ]
  },
  {
   "cell_type": "code",
   "execution_count": null,
   "metadata": {
    "ExecuteTime": {
     "end_time": "2016-11-01T15:28:55.306592",
     "start_time": "2016-11-01T15:28:55.301576"
    },
    "collapsed": false
   },
   "outputs": [],
   "source": [
    "ylim"
   ]
  },
  {
   "cell_type": "code",
   "execution_count": null,
   "metadata": {
    "ExecuteTime": {
     "end_time": "2016-11-01T15:28:55.743753",
     "start_time": "2016-11-01T15:28:55.307592"
    },
    "collapsed": false
   },
   "outputs": [],
   "source": [
    "fails = pd.DataFrame(twocol)\n",
    "fails = fails.loc[df_small.Response == 1]\n",
    "len(fails)\n",
    "#colors = df_small.Response.copy()\n",
    "#colors[colors == 0] = 'k'\n",
    "#colors[colors == 1] = 'c'\n",
    "plt.scatter(fails.iloc[:,0],fails.iloc[:,1])\n",
    "plt.ylim(ylim)\n",
    "plt.xlim(xlim)\n",
    "plt.show()"
   ]
  },
  {
   "cell_type": "code",
   "execution_count": null,
   "metadata": {
    "collapsed": true
   },
   "outputs": [],
   "source": []
  }
 ],
 "metadata": {
  "anaconda-cloud": {},
  "kernelspec": {
   "display_name": "Python [conda root]",
   "language": "python",
   "name": "conda-root-py"
  },
  "language_info": {
   "codemirror_mode": {
    "name": "ipython",
    "version": 3
   },
   "file_extension": ".py",
   "mimetype": "text/x-python",
   "name": "python",
   "nbconvert_exporter": "python",
   "pygments_lexer": "ipython3",
   "version": "3.5.2"
  }
 },
 "nbformat": 4,
 "nbformat_minor": 1
}
