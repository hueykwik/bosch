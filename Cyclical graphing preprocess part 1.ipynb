{
 "cells": [
  {
   "cell_type": "code",
   "execution_count": 11,
   "metadata": {
    "collapsed": true
   },
   "outputs": [],
   "source": [
    "import pandas as pd\n",
    "import numpy as np \n",
    "import os\n",
    "np.set_printoptions(threshold=np.inf)"
   ]
  },
  {
   "cell_type": "code",
   "execution_count": 12,
   "metadata": {
    "collapsed": false
   },
   "outputs": [
    {
     "name": "stdout",
     "output_type": "stream",
     "text": [
      "/Users/nathanhelm-burger/Documents/Stats/Bosch Kaggle/bosch\n"
     ]
    }
   ],
   "source": [
    "cwd = os.getcwd()\n",
    "print(cwd)"
   ]
  },
  {
   "cell_type": "code",
   "execution_count": 109,
   "metadata": {
    "collapsed": false
   },
   "outputs": [
    {
     "name": "stdout",
     "output_type": "stream",
     "text": [
      "   Id  L0_S0_F0  L0_S0_F2  L0_S0_F4  L0_S0_F6  L0_S0_F8  L0_S0_F10  L0_S0_F12  \\\n",
      "0   4      0.03    -0.034    -0.197    -0.179     0.118      0.116     -0.015   \n",
      "\n",
      "   L0_S0_F14  L0_S0_F16    ...     L3_S50_F4245  L3_S50_F4247  L3_S50_F4249  \\\n",
      "0     -0.032       0.02    ...              NaN           NaN           NaN   \n",
      "\n",
      "   L3_S50_F4251  L3_S50_F4253  L3_S51_F4256  L3_S51_F4258  L3_S51_F4260  \\\n",
      "0           NaN           NaN           NaN           NaN           NaN   \n",
      "\n",
      "   L3_S51_F4262  Response  \n",
      "0           NaN         0  \n",
      "\n",
      "[1 rows x 970 columns]\n"
     ]
    },
    {
     "data": {
      "text/html": [
       "<div>\n",
       "<table border=\"1\" class=\"dataframe\">\n",
       "  <thead>\n",
       "    <tr style=\"text-align: right;\">\n",
       "      <th></th>\n",
       "      <th>Id</th>\n",
       "      <th>L0_S0_D1</th>\n",
       "      <th>L0_S0_D3</th>\n",
       "      <th>L0_S0_D5</th>\n",
       "      <th>L0_S0_D7</th>\n",
       "      <th>L0_S0_D9</th>\n",
       "      <th>L0_S0_D11</th>\n",
       "      <th>L0_S0_D13</th>\n",
       "      <th>L0_S0_D15</th>\n",
       "      <th>L0_S0_D17</th>\n",
       "      <th>...</th>\n",
       "      <th>L3_S50_D4246</th>\n",
       "      <th>L3_S50_D4248</th>\n",
       "      <th>L3_S50_D4250</th>\n",
       "      <th>L3_S50_D4252</th>\n",
       "      <th>L3_S50_D4254</th>\n",
       "      <th>L3_S51_D4255</th>\n",
       "      <th>L3_S51_D4257</th>\n",
       "      <th>L3_S51_D4259</th>\n",
       "      <th>L3_S51_D4261</th>\n",
       "      <th>L3_S51_D4263</th>\n",
       "    </tr>\n",
       "  </thead>\n",
       "  <tbody>\n",
       "    <tr>\n",
       "      <th>0</th>\n",
       "      <td>4</td>\n",
       "      <td>82.24</td>\n",
       "      <td>82.24</td>\n",
       "      <td>82.24</td>\n",
       "      <td>82.24</td>\n",
       "      <td>82.24</td>\n",
       "      <td>82.24</td>\n",
       "      <td>82.24</td>\n",
       "      <td>82.24</td>\n",
       "      <td>82.24</td>\n",
       "      <td>...</td>\n",
       "      <td>NaN</td>\n",
       "      <td>NaN</td>\n",
       "      <td>NaN</td>\n",
       "      <td>NaN</td>\n",
       "      <td>NaN</td>\n",
       "      <td>NaN</td>\n",
       "      <td>NaN</td>\n",
       "      <td>NaN</td>\n",
       "      <td>NaN</td>\n",
       "      <td>NaN</td>\n",
       "    </tr>\n",
       "  </tbody>\n",
       "</table>\n",
       "<p>1 rows × 1157 columns</p>\n",
       "</div>"
      ],
      "text/plain": [
       "   Id  L0_S0_D1  L0_S0_D3  L0_S0_D5  L0_S0_D7  L0_S0_D9  L0_S0_D11  L0_S0_D13  \\\n",
       "0   4     82.24     82.24     82.24     82.24     82.24      82.24      82.24   \n",
       "\n",
       "   L0_S0_D15  L0_S0_D17      ...       L3_S50_D4246  L3_S50_D4248  \\\n",
       "0      82.24      82.24      ...                NaN           NaN   \n",
       "\n",
       "   L3_S50_D4250  L3_S50_D4252  L3_S50_D4254  L3_S51_D4255  L3_S51_D4257  \\\n",
       "0           NaN           NaN           NaN           NaN           NaN   \n",
       "\n",
       "   L3_S51_D4259  L3_S51_D4261  L3_S51_D4263  \n",
       "0           NaN           NaN           NaN  \n",
       "\n",
       "[1 rows x 1157 columns]"
      ]
     },
     "execution_count": 109,
     "metadata": {},
     "output_type": "execute_result"
    }
   ],
   "source": [
    "# Read the first few rows\n",
    "datapath = cwd + '/../'\n",
    "categorical = pd.read_csv(datapath + 'train_categorical.csv', nrows=100)\n",
    "dates = pd.read_csv(datapath + 'train_date.csv', nrows=100)\n",
    "numerics = pd.read_csv(datapath + 'train_numeric.csv', nrows=100)\n",
    "print(numerics.head(1))\n",
    "dates.head(1)"
   ]
  },
  {
   "cell_type": "code",
   "execution_count": 19,
   "metadata": {
    "collapsed": false
   },
   "outputs": [
    {
     "name": "stdout",
     "output_type": "stream",
     "text": [
      "1157 ['Id', 'L0_S0_D1']\n",
      "1156 ['L0_S0_D1', 'L0_S0_D3']\n"
     ]
    }
   ],
   "source": [
    "# Make a \n",
    "# Make a date_ids list of lists of ids operated on for each date\n",
    "# Make a date_response file with a count of success_ids and fail_ids \n",
    "# processed on each date\n",
    "\n",
    "all_dates = list(dates)\n",
    "print(len(all_dates), all_dates[0:2])\n",
    "all_dates = all_dates[1:]\n",
    "print(len(all_dates), all_dates[0:2])"
   ]
  },
  {
   "cell_type": "code",
   "execution_count": null,
   "metadata": {
    "collapsed": true
   },
   "outputs": [],
   "source": [
    "\n",
    "\n"
   ]
  },
  {
   "cell_type": "code",
   "execution_count": 106,
   "metadata": {
    "collapsed": true
   },
   "outputs": [
    {
     "name": "stdout",
     "output_type": "stream",
     "text": [
      "0  with dates:  1145\n",
      "1  with dates:  1145\n",
      "2  with dates:  1149\n",
      "3  with dates:  1149\n",
      "4  with dates:  1150\n",
      "5  with dates:  1150\n",
      "6  with dates:  1150\n",
      "7  with dates:  1150\n",
      "8  with dates:  1150\n",
      "9  with dates:  1150\n",
      "10  with dates:  1150\n",
      "11  with dates:  1150\n",
      "12  with dates:  1150\n",
      "13  with dates:  1150\n",
      "14  with dates:  1150\n",
      "15  with dates:  1150\n",
      "16  with dates:  1154\n",
      "17  with dates:  1154\n",
      "18  with dates:  1154\n",
      "19  with dates:  1154\n",
      "20  with dates:  1154\n",
      "21  with dates:  1154\n",
      "22  with dates:  1154\n",
      "23  with dates:  1154\n",
      "24  with dates:  1154\n",
      "25  with dates:  1154\n",
      "26  with dates:  1154\n",
      "27  with dates:  1154\n",
      "28  with dates:  1154\n",
      "29  with dates:  1154\n",
      "30  with dates:  1154\n",
      "31  with dates:  1154\n",
      "32  with dates:  1154\n",
      "33  with dates:  1154\n",
      "34  with dates:  1155\n",
      "35  with dates:  1155\n",
      "36  with dates:  1155\n",
      "37  with dates:  1155\n",
      "38  with dates:  1155\n",
      "39  with dates:  1155\n",
      "40  with dates:  1155\n",
      "41  with dates:  1155\n",
      "42  with dates:  1155\n",
      "43  with dates:  1155\n",
      "44  with dates:  1155\n",
      "45  with dates:  1155\n",
      "46  with dates:  1155\n",
      "47  with dates:  1155\n",
      "48  with dates:  1155\n",
      "49  with dates:  1155\n",
      "50  with dates:  1155\n",
      "51  with dates:  1155\n",
      "52  with dates:  1155\n",
      "53  with dates:  1155\n",
      "54  with dates:  1155\n",
      "55  with dates:  1155\n",
      "56  with dates:  1155\n",
      "57  with dates:  1155\n",
      "58  with dates:  1155\n",
      "59  with dates:  1155\n",
      "60  with dates:  1155\n",
      "61  with dates:  1155\n",
      "62  with dates:  1155\n",
      "63  with dates:  1155\n",
      "64  with dates:  1155\n",
      "65  with dates:  1155\n",
      "66  with dates:  1155\n",
      "67  with dates:  1155\n",
      "68  with dates:  1155\n",
      "69  with dates:  1155\n",
      "70  with dates:  1155\n",
      "71  with dates:  1155\n",
      "72  with dates:  1155\n",
      "73  with dates:  1155\n",
      "74  with dates:  1155\n",
      "75  with dates:  1155\n",
      "76  with dates:  1155\n",
      "77  with dates:  1155\n",
      "78  with dates:  1155\n",
      "79  with dates:  1155\n",
      "80  with dates:  1155\n",
      "81  with dates:  1155\n",
      "82  with dates:  1155\n",
      "83  with dates:  1155\n",
      "84  with dates:  1155\n",
      "85  with dates:  1155\n",
      "86  with dates:  1155\n",
      "87  with dates:  1155\n",
      "88  with dates:  1155\n",
      "89  with dates:  1155\n",
      "90  with dates:  1155\n",
      "91  with dates:  1155\n",
      "92  with dates:  1155\n",
      "93  with dates:  1155\n",
      "94  with dates:  1155\n",
      "95  with dates:  1155\n",
      "96  with dates:  1155\n",
      "97  with dates:  1155\n",
      "98  with dates:  1155\n",
      "99  with dates:  1155\n",
      "100  with dates:  1155\n",
      "101  with dates:  1155\n",
      "102  with dates:  1155\n",
      "103  with dates:  1155\n",
      "104  with dates:  1155\n",
      "105  with dates:  1155\n",
      "106  with dates:  1155\n",
      "107  with dates:  1155\n",
      "108  with dates:  1155\n",
      "109  with dates:  1155\n",
      "110  with dates:  1155\n",
      "111  with dates:  1155\n",
      "112  with dates:  1155\n",
      "113  with dates:  1155\n",
      "114  with dates:  1155\n",
      "115  with dates:  1155\n",
      "116  with dates:  1155\n",
      "117  with dates:  1156\n",
      "118  with dates:  1156\n"
     ]
    }
   ],
   "source": [
    "date_iter_csv = pd.read_csv(datapath + 'train_date.csv',\n",
    "                            iterator = True,\n",
    "                            chunksize = 10000,\n",
    "                            index_col = 0)\n",
    "date_ids = {}\n",
    "chunk_num = 0\n",
    "for chunk in date_iter_csv:\n",
    "\n",
    "    for j in chunk.itertuples():\n",
    "      # this is a single row, which is a single id\n",
    "      # I will add this ID to every date's list of ids for which\n",
    "      # this ID has an entry\n",
    "      for c in range(0, len(j)-1):\n",
    "        if pd.isnull(j[c+1]) == False:\n",
    "          # j[0] is the id\n",
    "          temp = date_ids.get(all_dates[c], [])\n",
    "          temp.append(j[0])\n",
    "          date_ids[all_dates[c]] = temp\n",
    "    print(chunk_num, \"/119 with dates: \", len(date_ids))\n",
    "    chunk_num += 1"
   ]
  },
  {
   "cell_type": "code",
   "execution_count": 107,
   "metadata": {
    "collapsed": false
   },
   "outputs": [
    {
     "name": "stdout",
     "output_type": "stream",
     "text": [
      "1156\n",
      "1156\n"
     ]
    }
   ],
   "source": [
    "print(len(date_ids))\n",
    "print(len(all_dates))\n",
    "print(set(all_dates) - set(date_ids.keys()))"
   ]
  },
  {
   "cell_type": "code",
   "execution_count": 105,
   "metadata": {
    "collapsed": false
   },
   "outputs": [
    {
     "name": "stdout",
     "output_type": "stream",
     "text": [
      "751\n"
     ]
    }
   ],
   "source": [
    "counter = 0\n",
    "for i in range(len(all_dates)):\n",
    "  if all_dates[i] in date_ids:\n",
    "    if len(date_ids[all_dates[i]]) > 50:\n",
    "      counter += 1\n",
    "print(counter)"
   ]
  },
  {
   "cell_type": "code",
   "execution_count": 108,
   "metadata": {
    "collapsed": false
   },
   "outputs": [
    {
     "name": "stdout",
     "output_type": "stream",
     "text": [
      "L0_S0_D1     [4, 7, 9, 11, 13, 18, 26, 27, 28, 31, 34, 38, ...\n",
      "L0_S0_D11    [4, 7, 9, 11, 13, 18, 26, 27, 28, 31, 34, 38, ...\n",
      "L0_S0_D13    [4, 7, 9, 11, 13, 18, 26, 27, 28, 31, 34, 38, ...\n",
      "L0_S0_D15    [4, 7, 9, 11, 13, 18, 26, 27, 28, 31, 34, 38, ...\n",
      "L0_S0_D17    [4, 7, 9, 11, 13, 18, 26, 27, 28, 31, 34, 38, ...\n",
      "dtype: object\n"
     ]
    }
   ],
   "source": [
    "date_ids_series = pd.Series(date_ids)\n",
    "print(date_ids_series.head())\n",
    "date_ids_series.to_csv('../date_ids.csv')"
   ]
  },
  {
   "cell_type": "code",
   "execution_count": 134,
   "metadata": {
    "collapsed": false
   },
   "outputs": [
    {
     "name": "stdout",
     "output_type": "stream",
     "text": [
      "1183747 1183747\n"
     ]
    }
   ],
   "source": [
    "# make the successfail result code csv\n",
    "id_list = []\n",
    "result_list = []\n",
    "numeric_iter_csv = pd.read_csv(datapath + 'train_numeric.csv',\n",
    "                            iterator = True,\n",
    "                            chunksize = 1000,\n",
    "                            index_col = 0)\n",
    "chunk_num = 0\n",
    "for chunk in numeric_iter_csv:\n",
    "  chunk_num += 1\n",
    "  #print(chunk_num)\n",
    "  #print(chunk.columns)\n",
    "  id_list.extend(chunk.index.tolist())\n",
    "  result_list.extend(chunk.Response)\n",
    "\n",
    "print(len(id_list), len(result_list))\n",
    "successfail = pd.DataFrame({'Id':id_list, 'Response':result_list})\n",
    "successfail = successfail.set_index('Id')\n",
    "successfail.to_csv('../response_code.csv')\n"
   ]
  },
  {
   "cell_type": "code",
   "execution_count": 191,
   "metadata": {
    "collapsed": true
   },
   "outputs": [],
   "source": []
  },
  {
   "cell_type": "code",
   "execution_count": 133,
   "metadata": {
    "collapsed": false
   },
   "outputs": [
    {
     "name": "stdout",
     "output_type": "stream",
     "text": [
      "   Id  Response\n",
      "0   4         0\n",
      "1   6         0\n",
      "2   7         0\n",
      "3   9         0\n",
      "4  11         0\n",
      "[4, 6, 7, 9, 11] [0, 0, 0, 0, 0]\n"
     ]
    }
   ],
   "source": [
    "print(successfail.head())\n",
    "print(id_list[0:5], result_list[0:5])"
   ]
  },
  {
   "cell_type": "code",
   "execution_count": 171,
   "metadata": {
    "collapsed": false
   },
   "outputs": [
    {
     "name": "stdout",
     "output_type": "stream",
     "text": [
      "591432\n",
      "(array([591432]), array([0]))\n",
      "Response    0\n",
      "Name: 1183750, dtype: int64\n"
     ]
    }
   ],
   "source": [
    "print(id_list.index(1183750))\n",
    "print(np.where(successfail == 1183750))\n",
    "successfail = successfail.set_index('Id')\n",
    "print(successfail.loc[1183750,])"
   ]
  },
  {
   "cell_type": "code",
   "execution_count": 142,
   "metadata": {
    "collapsed": false
   },
   "outputs": [
    {
     "name": "stdout",
     "output_type": "stream",
     "text": [
      "['date_id_list', 'failures', 'successes', 'totals']\n",
      "                                               date_id_list  failures  \\\n",
      "L0_S0_D1  [4, 7, 9, 11, 13, 18, 26, 27, 28, 31, 34, 38, ...         0   \n",
      "\n",
      "          successes  totals  \n",
      "L0_S0_D1          0       0   (1156, 4)\n"
     ]
    }
   ],
   "source": [
    "date_ids_df = pd.DataFrame({'date_id_list':date_ids,\n",
    "                       'successes':0,\n",
    "                       'failures':0,\n",
    "                       'totals':0})\n",
    "print(list(date_ids_df))\n",
    "print(date_ids_df.head(1), date_ids_df.shape)"
   ]
  },
  {
   "cell_type": "code",
   "execution_count": 187,
   "metadata": {
    "collapsed": false
   },
   "outputs": [
    {
     "name": "stdout",
     "output_type": "stream",
     "text": [
      "81368\n",
      "81368\n",
      "81368\n",
      "81368\n",
      "81368\n",
      "80600\n",
      "80591\n",
      "80599\n",
      "80595\n",
      "80599\n",
      "80591\n",
      "80591\n",
      "80591\n",
      "80591\n",
      "80591\n",
      "80591\n",
      "80591\n",
      "80591\n",
      "80591\n",
      "80591\n",
      "80290\n",
      "80290\n",
      "80290\n",
      "80290\n",
      "80290\n",
      "80290\n",
      "80290\n",
      "80290\n",
      "80290\n",
      "80290\n"
     ]
    }
   ],
   "source": [
    "for i in range(100,130):\n",
    "  try:\n",
    "    print(len(date_ids_df.iloc[i,0]))\n",
    "  except:\n",
    "    print(date_ids_df.iloc[i,0])"
   ]
  },
  {
   "cell_type": "code",
   "execution_count": 188,
   "metadata": {
    "collapsed": false
   },
   "outputs": [
    {
     "name": "stdout",
     "output_type": "stream",
     "text": [
      "1156 1156\n"
     ]
    }
   ],
   "source": [
    "successes = np.zeros(len(date_ids_df))\n",
    "failures = np.zeros(len(date_ids_df))\n",
    "for rownum in range(date_ids_df.shape[0]):\n",
    "  for item in date_ids_df.iloc[rownum,0]:\n",
    "    temp_result = successfail.loc[item, 'Response']\n",
    "    if temp_result == 0:\n",
    "      successes[rownum] += 1\n",
    "    elif temp_result == 1:\n",
    "      failures[rownum] += 1"
   ]
  },
  {
   "cell_type": "code",
   "execution_count": 190,
   "metadata": {
    "collapsed": false
   },
   "outputs": [
    {
     "name": "stdout",
     "output_type": "stream",
     "text": [
      "80290.0\n"
     ]
    }
   ],
   "source": [
    "print(sum(successes) + sum(failures))"
   ]
  },
  {
   "cell_type": "code",
   "execution_count": 156,
   "metadata": {
    "collapsed": false
   },
   "outputs": [
    {
     "name": "stdout",
     "output_type": "stream",
     "text": [
      "                                               date_id_list  failures  \\\n",
      "L0_S0_D1  [4, 7, 9, 11, 13, 18, 26, 27, 28, 31, 34, 38, ...         0   \n",
      "\n",
      "          successes  totals  \n",
      "L0_S0_D1          0    1156  \n"
     ]
    }
   ],
   "source": [
    "print(date_ids_df.head(1))\n"
   ]
  },
  {
   "cell_type": "code",
   "execution_count": null,
   "metadata": {
    "collapsed": true
   },
   "outputs": [],
   "source": [
    "print(list(date_ids_df))\n",
    "print(date_ids_df.head(1), date_ids_df.shape)"
   ]
  },
  {
   "cell_type": "code",
   "execution_count": null,
   "metadata": {
    "collapsed": true
   },
   "outputs": [],
   "source": [
    "date_ids_df['failures'] = failures\n",
    "date_ids_df['successes'] = successes\n",
    "date_ids_df['totals'] = date_ids_df.failures + date_ids_df.successes"
   ]
  },
  {
   "cell_type": "code",
   "execution_count": null,
   "metadata": {
    "collapsed": true
   },
   "outputs": [],
   "source": [
    "date_ids_df.to_csv('../date_ids_df.csv')"
   ]
  }
 ],
 "metadata": {
  "kernelspec": {
   "display_name": "Python 3",
   "language": "python",
   "name": "python3"
  },
  "language_info": {
   "codemirror_mode": {
    "name": "ipython",
    "version": 3
   },
   "file_extension": ".py",
   "mimetype": "text/x-python",
   "name": "python",
   "nbconvert_exporter": "python",
   "pygments_lexer": "ipython3",
   "version": "3.4.3"
  }
 },
 "nbformat": 4,
 "nbformat_minor": 0
}
